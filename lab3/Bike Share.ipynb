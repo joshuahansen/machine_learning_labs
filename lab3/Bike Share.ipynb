{
 "cells": [
  {
   "cell_type": "code",
   "execution_count": 53,
   "metadata": {},
   "outputs": [
    {
     "name": "stdout",
     "output_type": "stream",
     "text": [
      "         dteday  season  yr  mnth  holiday  weekday  workingday  weathersit  \\\n",
      "0    2011-01-01       1   0     1        0        6           0           2   \n",
      "1    2011-01-02       1   0     1        0        0           0           2   \n",
      "2    2011-01-03       1   0     1        0        1           1           1   \n",
      "3    2011-01-04       1   0     1        0        2           1           1   \n",
      "4    2011-01-05       1   0     1        0        3           1           1   \n",
      "5    2011-01-06       1   0     1        0        4           1           1   \n",
      "6    2011-01-07       1   0     1        0        5           1           2   \n",
      "7    2011-01-08       1   0     1        0        6           0           2   \n",
      "8    2011-01-09       1   0     1        0        0           0           1   \n",
      "9    2011-01-10       1   0     1        0        1           1           1   \n",
      "10   2011-01-11       1   0     1        0        2           1           2   \n",
      "11   2011-01-12       1   0     1        0        3           1           1   \n",
      "12   2011-01-13       1   0     1        0        4           1           1   \n",
      "13   2011-01-14       1   0     1        0        5           1           1   \n",
      "14   2011-01-15       1   0     1        0        6           0           2   \n",
      "15   2011-01-16       1   0     1        0        0           0           1   \n",
      "16   2011-01-17       1   0     1        1        1           0           2   \n",
      "17   2011-01-18       1   0     1        0        2           1           2   \n",
      "18   2011-01-19       1   0     1        0        3           1           2   \n",
      "19   2011-01-20       1   0     1        0        4           1           2   \n",
      "20   2011-01-21       1   0     1        0        5           1           1   \n",
      "21   2011-01-22       1   0     1        0        6           0           1   \n",
      "22   2011-01-23       1   0     1        0        0           0           1   \n",
      "23   2011-01-24       1   0     1        0        1           1           1   \n",
      "24   2011-01-25       1   0     1        0        2           1           2   \n",
      "25   2011-01-26       1   0     1        0        3           1           3   \n",
      "26   2011-01-27       1   0     1        0        4           1           1   \n",
      "27   2011-01-28       1   0     1        0        5           1           2   \n",
      "28   2011-01-29       1   0     1        0        6           0           1   \n",
      "29   2011-01-30       1   0     1        0        0           0           1   \n",
      "..          ...     ...  ..   ...      ...      ...         ...         ...   \n",
      "701  2012-12-02       4   1    12        0        0           0           2   \n",
      "702  2012-12-03       4   1    12        0        1           1           1   \n",
      "703  2012-12-04       4   1    12        0        2           1           1   \n",
      "704  2012-12-05       4   1    12        0        3           1           1   \n",
      "705  2012-12-06       4   1    12        0        4           1           1   \n",
      "706  2012-12-07       4   1    12        0        5           1           2   \n",
      "707  2012-12-08       4   1    12        0        6           0           2   \n",
      "708  2012-12-09       4   1    12        0        0           0           2   \n",
      "709  2012-12-10       4   1    12        0        1           1           2   \n",
      "710  2012-12-11       4   1    12        0        2           1           2   \n",
      "711  2012-12-12       4   1    12        0        3           1           2   \n",
      "712  2012-12-13       4   1    12        0        4           1           1   \n",
      "713  2012-12-14       4   1    12        0        5           1           1   \n",
      "714  2012-12-15       4   1    12        0        6           0           1   \n",
      "715  2012-12-16       4   1    12        0        0           0           2   \n",
      "716  2012-12-17       4   1    12        0        1           1           2   \n",
      "717  2012-12-18       4   1    12        0        2           1           1   \n",
      "718  2012-12-19       4   1    12        0        3           1           1   \n",
      "719  2012-12-20       4   1    12        0        4           1           2   \n",
      "720  2012-12-21       1   1    12        0        5           1           2   \n",
      "721  2012-12-22       1   1    12        0        6           0           1   \n",
      "722  2012-12-23       1   1    12        0        0           0           1   \n",
      "723  2012-12-24       1   1    12        0        1           1           2   \n",
      "724  2012-12-25       1   1    12        1        2           0           2   \n",
      "725  2012-12-26       1   1    12        0        3           1           3   \n",
      "726  2012-12-27       1   1    12        0        4           1           2   \n",
      "727  2012-12-28       1   1    12        0        5           1           2   \n",
      "728  2012-12-29       1   1    12        0        6           0           2   \n",
      "729  2012-12-30       1   1    12        0        0           0           1   \n",
      "730  2012-12-31       1   1    12        0        1           1           2   \n",
      "\n",
      "         temp     atemp       hum  windspeed  casual  registered   cnt  \n",
      "0    0.344167  0.363625  0.805833   0.160446     331         654   985  \n",
      "1    0.363478  0.353739  0.696087   0.248539     131         670   801  \n",
      "2    0.196364  0.189405  0.437273   0.248309     120        1229  1349  \n",
      "3    0.200000  0.212122  0.590435   0.160296     108        1454  1562  \n",
      "4    0.226957  0.229270  0.436957   0.186900      82        1518  1600  \n",
      "5    0.204348  0.233209  0.518261   0.089565      88        1518  1606  \n",
      "6    0.196522  0.208839  0.498696   0.168726     148        1362  1510  \n",
      "7    0.165000  0.162254  0.535833   0.266804      68         891   959  \n",
      "8    0.138333  0.116175  0.434167   0.361950      54         768   822  \n",
      "9    0.150833  0.150888  0.482917   0.223267      41        1280  1321  \n",
      "10   0.169091  0.191464  0.686364   0.122132      43        1220  1263  \n",
      "11   0.172727  0.160473  0.599545   0.304627      25        1137  1162  \n",
      "12   0.165000  0.150883  0.470417   0.301000      38        1368  1406  \n",
      "13   0.160870  0.188413  0.537826   0.126548      54        1367  1421  \n",
      "14   0.233333  0.248112  0.498750   0.157963     222        1026  1248  \n",
      "15   0.231667  0.234217  0.483750   0.188433     251         953  1204  \n",
      "16   0.175833  0.176771  0.537500   0.194017     117         883  1000  \n",
      "17   0.216667  0.232333  0.861667   0.146775       9         674   683  \n",
      "18   0.292174  0.298422  0.741739   0.208317      78        1572  1650  \n",
      "19   0.261667  0.255050  0.538333   0.195904      83        1844  1927  \n",
      "20   0.177500  0.157833  0.457083   0.353242      75        1468  1543  \n",
      "21   0.059130  0.079070  0.400000   0.171970      93         888   981  \n",
      "22   0.096522  0.098839  0.436522   0.246600     150         836   986  \n",
      "23   0.097391  0.117930  0.491739   0.158330      86        1330  1416  \n",
      "24   0.223478  0.234526  0.616957   0.129796     186        1799  1985  \n",
      "25   0.217500  0.203600  0.862500   0.293850      34         472   506  \n",
      "26   0.195000  0.219700  0.687500   0.113837      15         416   431  \n",
      "27   0.203478  0.223317  0.793043   0.123300      38        1129  1167  \n",
      "28   0.196522  0.212126  0.651739   0.145365     123         975  1098  \n",
      "29   0.216522  0.250322  0.722174   0.073983     140         956  1096  \n",
      "..        ...       ...       ...        ...     ...         ...   ...  \n",
      "701  0.347500  0.359208  0.823333   0.124379     892        3757  4649  \n",
      "702  0.452500  0.455796  0.767500   0.082721     555        5679  6234  \n",
      "703  0.475833  0.469054  0.733750   0.174129     551        6055  6606  \n",
      "704  0.438333  0.428012  0.485000   0.324021     331        5398  5729  \n",
      "705  0.255833  0.258204  0.508750   0.174754     340        5035  5375  \n",
      "706  0.320833  0.321958  0.764167   0.130600     349        4659  5008  \n",
      "707  0.381667  0.389508  0.911250   0.101379    1153        4429  5582  \n",
      "708  0.384167  0.390146  0.905417   0.157975     441        2787  3228  \n",
      "709  0.435833  0.435575  0.925000   0.190308     329        4841  5170  \n",
      "710  0.353333  0.338363  0.596667   0.296037     282        5219  5501  \n",
      "711  0.297500  0.297338  0.538333   0.162937     310        5009  5319  \n",
      "712  0.295833  0.294188  0.485833   0.174129     425        5107  5532  \n",
      "713  0.281667  0.294192  0.642917   0.131229     429        5182  5611  \n",
      "714  0.324167  0.338383  0.650417   0.106350     767        4280  5047  \n",
      "715  0.362500  0.369938  0.838750   0.100742     538        3248  3786  \n",
      "716  0.393333  0.401500  0.907083   0.098258     212        4373  4585  \n",
      "717  0.410833  0.409708  0.666250   0.221404     433        5124  5557  \n",
      "718  0.332500  0.342162  0.625417   0.184092     333        4934  5267  \n",
      "719  0.330000  0.335217  0.667917   0.132463     314        3814  4128  \n",
      "720  0.326667  0.301767  0.556667   0.374383     221        3402  3623  \n",
      "721  0.265833  0.236113  0.441250   0.407346     205        1544  1749  \n",
      "722  0.245833  0.259471  0.515417   0.133083     408        1379  1787  \n",
      "723  0.231304  0.258900  0.791304   0.077230     174         746   920  \n",
      "724  0.291304  0.294465  0.734783   0.168726     440         573  1013  \n",
      "725  0.243333  0.220333  0.823333   0.316546       9         432   441  \n",
      "726  0.254167  0.226642  0.652917   0.350133     247        1867  2114  \n",
      "727  0.253333  0.255046  0.590000   0.155471     644        2451  3095  \n",
      "728  0.253333  0.242400  0.752917   0.124383     159        1182  1341  \n",
      "729  0.255833  0.231700  0.483333   0.350754     364        1432  1796  \n",
      "730  0.215833  0.223487  0.577500   0.154846     439        2290  2729  \n",
      "\n",
      "[731 rows x 15 columns]\n"
     ]
    }
   ],
   "source": [
    "import numpy as np\n",
    "import pandas as pd\n",
    "import matplotlib.pyplot as plt\n",
    "import sklearn as sk\n",
    "\n",
    "\n",
    "bikeShare = pd.read_csv('bikeShareDay.csv')\n",
    "bikeShare.drop('instant', axis=1, inplace=True)\n",
    "\n",
    "print(bikeShare)"
   ]
  },
  {
   "cell_type": "code",
   "execution_count": 54,
   "metadata": {},
   "outputs": [
    {
     "name": "stdout",
     "output_type": "stream",
     "text": [
      "(584, 1)\n",
      "(147, 1)\n",
      "(584, 1)\n",
      "(147, 1)\n"
     ]
    }
   ],
   "source": [
    "uniRegisteredX = bikeShare[['registered']]\n",
    "Y = bikeShare[['cnt']]\n",
    "\n",
    "from sklearn.model_selection import train_test_split\n",
    "\n",
    "trainX, testX, trainY, testY = train_test_split(np.array(uniRegisteredX), np.array(Y), test_size=0.2)\n",
    "print(trainX.shape)\n",
    "print(testX.shape)\n",
    "print(trainY.shape)\n",
    "print(testY.shape)"
   ]
  },
  {
   "cell_type": "code",
   "execution_count": 55,
   "metadata": {},
   "outputs": [
    {
     "name": "stdout",
     "output_type": "stream",
     "text": [
      "[229.01328022]\n",
      "[[1.16788579]]\n"
     ]
    }
   ],
   "source": [
    "from sklearn import linear_model\n",
    "linReg = linear_model.LinearRegression()\n",
    "\n",
    "linReg.fit(trainX, trainY)\n",
    "\n",
    "print(linReg.intercept_)\n",
    "print(linReg.coef_)"
   ]
  },
  {
   "cell_type": "code",
   "execution_count": 56,
   "metadata": {},
   "outputs": [
    {
     "name": "stdout",
     "output_type": "stream",
     "text": [
      "Mean squared error  371933.3694997717\n"
     ]
    }
   ],
   "source": [
    "prediction = linReg.predict(testX)\n",
    "\n",
    "from sklearn.metrics import mean_squared_error\n",
    "\n",
    "print(\"Mean squared error \", mean_squared_error(testY, prediction))"
   ]
  },
  {
   "cell_type": "code",
   "execution_count": 57,
   "metadata": {},
   "outputs": [
    {
     "data": {
      "text/plain": [
       "[<matplotlib.lines.Line2D at 0x7fb1ec4fec88>]"
      ]
     },
     "execution_count": 57,
     "metadata": {},
     "output_type": "execute_result"
    },
    {
     "data": {
      "image/png": "[encoded data removed]",
      "text/plain": [
       "<Figure size 432x288 with 1 Axes>"
      ]
     },
     "metadata": {},
     "output_type": "display_data"
    }
   ],
   "source": [
    "plt.scatter(testX, testY, color='black')\n",
    "plt.plot(testX, prediction, color='blue', linewidth=3)"
   ]
  },
  {
   "cell_type": "code",
   "execution_count": 58,
   "metadata": {},
   "outputs": [
    {
     "data": {
      "text/plain": [
       "<matplotlib.collections.LineCollection at 0x7fb1ec8d1240>"
      ]
     },
     "execution_count": 58,
     "metadata": {},
     "output_type": "execute_result"
    },
    {
     "data": {
      "image/png": "[encoded data removed]",
      "text/plain": [
       "<Figure size 432x288 with 1 Axes>"
      ]
     },
     "metadata": {},
     "output_type": "display_data"
    }
   ],
   "source": [
    "plt.scatter(testX, linReg.predict(testX) - testY, c='g', s=40)\n",
    "plt.hlines(y=0, xmin=0, xmax=9000)"
   ]
  },
  {
   "cell_type": "code",
   "execution_count": 61,
   "metadata": {},
   "outputs": [
    {
     "name": "stdout",
     "output_type": "stream",
     "text": [
      "(584, 1)\n",
      "(147, 1)\n",
      "(584, 1)\n",
      "(147, 1)\n"
     ]
    }
   ],
   "source": [
    "X = bikeShare.drop('cnt', axis=1)\n",
    "Y = bikeShare[['cnt']]\n",
    "\n",
    "trainX, testX, trainY, testY = train_test_split(np.array(uniRegisteredX), np.array(Y), test_size=0.2)\n",
    "print(trainX.shape)\n",
    "print(testX.shape)\n",
    "print(trainY.shape)\n",
    "print(testY.shape)\n"
   ]
  },
  {
   "cell_type": "code",
   "execution_count": 63,
   "metadata": {},
   "outputs": [
    {
     "name": "stdout",
     "output_type": "stream",
     "text": [
      "[207.43333092]\n",
      "[[1.17475429]]\n"
     ]
    }
   ],
   "source": [
    "linReg = linear_model.LinearRegression()\n",
    "linReg.fit(trainX, trainY)\n",
    "\n",
    "print(linReg.intercept_)\n",
    "print(linReg.coef_)\n"
   ]
  },
  {
   "cell_type": "code",
   "execution_count": 64,
   "metadata": {},
   "outputs": [
    {
     "name": "stdout",
     "output_type": "stream",
     "text": [
      "Mean squared error value:  422790.31970885023\n"
     ]
    }
   ],
   "source": [
    "prediction = linReg.predict(testX)\n",
    "\n",
    "print('Mean squared error value: ', mean_squared_error(testY, prediction))\n"
   ]
  },
  {
   "cell_type": "code",
   "execution_count": 68,
   "metadata": {},
   "outputs": [
    {
     "data": {
      "text/plain": [
       "[<matplotlib.lines.Line2D at 0x7fb1ec0fcc18>]"
      ]
     },
     "execution_count": 68,
     "metadata": {},
     "output_type": "execute_result"
    },
    {
     "data": {
      "image/png": "[encoded data removed]",
      "text/plain": [
       "<Figure size 432x288 with 1 Axes>"
      ]
     },
     "metadata": {},
     "output_type": "display_data"
    }
   ],
   "source": [
    "plt.scatter(testX, testY, color='black')\n",
    "plt.plot(testX, prediction, color='blue', linewidth=3)"
   ]
  },
  {
   "cell_type": "code",
   "execution_count": 70,
   "metadata": {},
   "outputs": [
    {
     "data": {
      "text/plain": [
       "<matplotlib.collections.LineCollection at 0x7fb1e7f6d9b0>"
      ]
     },
     "execution_count": 70,
     "metadata": {},
     "output_type": "execute_result"
    },
    {
     "data": {
      "image/png": "[encoded data removed]",
      "text/plain": [
       "<Figure size 432x288 with 1 Axes>"
      ]
     },
     "metadata": {},
     "output_type": "display_data"
    }
   ],
   "source": [
    "plt.scatter(testX, linReg.predict(testX) - testY, c='g', s=40)\n",
    "plt.hlines(y=0, xmin=0, xmax=9000)"
   ]
  }
 ],
 "metadata": {
  "kernelspec": {
   "display_name": "Python 3",
   "language": "python",
   "name": "python3"
  },
  "language_info": {
   "codemirror_mode": {
    "name": "ipython",
    "version": 3
   },
   "file_extension": ".py",
   "mimetype": "text/x-python",
   "name": "python",
   "nbconvert_exporter": "python",
   "pygments_lexer": "ipython3",
   "version": "3.6.5"
  }
 },
 "nbformat": 4,
 "nbformat_minor": 2
}
