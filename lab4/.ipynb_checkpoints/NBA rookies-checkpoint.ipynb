{
 "cells": [
  {
   "cell_type": "code",
   "execution_count": null,
   "metadata": {},
   "outputs": [],
   "source": [
    "import pandas as pd\n",
    "import numpy as np\n",
    "import matplotlib.pyplot as plt\n",
    "import sklearn.metrics as skmetrics\n",
    "import sklearn.model_selection as skmodel\n",
    "from sklearn import linear_model\n",
    "\n",
    "nbaDf = pd.read_csv('nbaRookies.csv')\n",
    "\n",
    "print(nbaDf)"
   ]
  },
  {
   "cell_type": "code",
   "execution_count": null,
   "metadata": {},
   "outputs": [],
   "source": [
    "plt.figure()\n",
    "nbaDf.hist()\n",
    "plt.show()"
   ]
  },
  {
   "cell_type": "code",
   "execution_count": null,
   "metadata": {},
   "outputs": [],
   "source": [
    "pd.isna(nbaDf)"
   ]
  },
  {
   "cell_type": "code",
   "execution_count": null,
   "metadata": {},
   "outputs": [],
   "source": [
    "nbaDf[pd.isna(nbaDf).any(axis=1)]"
   ]
  },
  {
   "cell_type": "code",
   "execution_count": null,
   "metadata": {},
   "outputs": [],
   "source": [
    "nbaDf.fillna(0)"
   ]
  },
  {
   "cell_type": "code",
   "execution_count": null,
   "metadata": {},
   "outputs": [],
   "source": [
    "nbaFeatDf = nbaDf.drop(['Name', 'TARGET_5Yrs'], axis=1)\n",
    "nbaLabelsDf = nbaDf[['TARGET_5Yrs']]"
   ]
  },
  {
   "cell_type": "code",
   "execution_count": null,
   "metadata": {},
   "outputs": [],
   "source": [
    "nbaTrainFeat, nbaTestFeat, nbaTrainLabels, nbaTestLabels = skmodel.train_test_split(nbaFeatDf, nbaLabelsDf, test_size=0.2)\n",
    "print(nbaTrainFeat)\n",
    "print(nbaTestFeat)\n",
    "print(nbaTrainLabels)\n",
    "print(nbaTestLabels)"
   ]
  },
  {
   "cell_type": "code",
   "execution_count": null,
   "metadata": {},
   "outputs": [],
   "source": [
    "nbaTrainFeat, nbaValFeat, nbaTrainLabels, nbaValLabels = skmodel.train_test_split(nbaTrainFeat, nbaTrainLabels, test_size=0.2)\n",
    "print(nbaTrainFeat)\n",
    "print(nbaValFeat)\n",
    "print(nbaTrainLabels)\n",
    "print(nbaValLabels)"
   ]
  },
  {
   "cell_type": "code",
   "execution_count": null,
   "metadata": {},
   "outputs": [],
   "source": [
    "logRegNba = linear_model.LogisticRegression(C=10000, max_iter=100)\n",
    "\n",
    "logRegNba.fit(nbaTrainFeat, nbaTrainLabels)\n",
    "\n",
    "print(logRegNba.intercept_)\n",
    "print(logRegNba.coef_)"
   ]
  },
  {
   "cell_type": "code",
   "execution_count": null,
   "metadata": {},
   "outputs": [],
   "source": [
    "predYLstat = logRegNba.predict(nbaTestFeat)\n",
    "\n",
    "from sklearn.metrics import f1_score, accuracy_score\n",
    "print(f1_score(nbaTestLabels, pred))\n",
    "print(accuracy_score (nbaTestLabels, pred))"
   ]
  }
 ],
 "metadata": {
  "kernelspec": {
   "display_name": "Python 3",
   "language": "python",
   "name": "python3"
  },
  "language_info": {
   "codemirror_mode": {
    "name": "ipython",
    "version": 3
   },
   "file_extension": ".py",
   "mimetype": "text/x-python",
   "name": "python",
   "nbconvert_exporter": "python",
   "pygments_lexer": "ipython3",
   "version": "3.6.5"
  }
 },
 "nbformat": 4,
 "nbformat_minor": 2
}
